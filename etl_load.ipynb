{
 "cells": [
  {
   "cell_type": "code",
   "execution_count": 14,
   "id": "37113720",
   "metadata": {},
   "outputs": [],
   "source": [
    "import pandas as  pd\n",
    "import sqlite3\n",
    "import os\n"
   ]
  },
  {
   "cell_type": "code",
   "execution_count": null,
   "id": "a7930267",
   "metadata": {},
   "outputs": [],
   "source": [
    "# Defining  file paths\n",
    "full_csv = 'C:/Users/Admin/OneDrive/Desktop/ETL_EXTRACT_SUSAN/ETL_EXTRACT_SUSANOTIENO/transformed_full.csv'\n",
    "incremental_csv = 'C:/Users/Admin/OneDrive/Desktop/ETL_EXTRACT_SUSAN/ETL_EXTRACT_SUSANOTIENO/transformed_incremental.csv'\n",
    "full_db = 'loaded_data/full_data.db'\n",
    "incremental_db = 'loaded_data/incremental_data.db'"
   ]
  },
  {
   "cell_type": "code",
   "execution_count": null,
   "id": "46dddd46",
   "metadata": {},
   "outputs": [],
   "source": [
    "# Load the full transformed CSV into a DataFrame\n",
    "df_full = pd.read_csv(full_csv)\n",
    "\n",
    "# Save to SQLite database\n",
    "conn_full = sqlite3.connect(full_db)\n",
    "df_full.to_sql('full_data', conn_full, if_exists='replace', index=False)\n",
    "conn_full.close()"
   ]
  },
  {
   "cell_type": "code",
   "execution_count": null,
   "id": "41cc9629",
   "metadata": {},
   "outputs": [],
   "source": [
    "# Load the incremental transformed CSV into a DataFrame\n",
    "df_incremental = pd.read_csv(incremental_csv)\n",
    "\n",
    "# Save to SQLite database\n",
    "conn_incr = sqlite3.connect(incremental_db)\n",
    "df_incremental.to_sql('incremental_data', conn_incr, if_exists='replace', index=False)\n",
    "conn_incr.close()"
   ]
  },
  {
   "cell_type": "code",
   "execution_count": null,
   "id": "d1366f0a",
   "metadata": {},
   "outputs": [
    {
     "name": "stdout",
     "output_type": "stream",
     "text": [
      "Full Data Preview:\n",
      "  student_id  age  gender  study_hours_per_day  social_media_hours  \\\n",
      "0      S1000   23  Female                  0.0                 1.2   \n",
      "1      S1001   20  Female                  6.9                 2.8   \n",
      "2      S1002   21    Male                  1.4                 3.1   \n",
      "3      S1003   23  Female                  1.0                 3.9   \n",
      "4      S1004   19  Female                  5.0                 4.4   \n",
      "\n",
      "   netflix_hours part_time_job  attendance_percentage  sleep_hours  \\\n",
      "0            1.1            No                   85.0          8.0   \n",
      "1            2.3            No                   97.3          4.6   \n",
      "2            1.3            No                   94.8          8.0   \n",
      "3            1.0            No                   71.0          9.2   \n",
      "4            0.5            No                   90.9          4.9   \n",
      "\n",
      "  diet_quality  exercise_frequency parental_education_level internet_quality  \\\n",
      "0         Fair                   6                   Master          Average   \n",
      "1         Good                   6              High School          Average   \n",
      "2         Poor                   1              High School             Poor   \n",
      "3         Poor                   4                   Master             Good   \n",
      "4         Fair                   3                   Master             Good   \n",
      "\n",
      "   mental_health_rating extracurricular_participation  exam_score  \\\n",
      "0                     8                           Yes        56.2   \n",
      "1                     8                            No       100.0   \n",
      "2                     1                            No        34.3   \n",
      "3                     1                           Yes        26.8   \n",
      "4                     1                            No        66.4   \n",
      "\n",
      "                last_updated    age_group exam_result  \n",
      "0  2025-06-10 22:25:08+00:00        Adult        Pass  \n",
      "1  2025-06-10 22:25:08+00:00  Young Adult        Pass  \n",
      "2  2025-06-10 22:25:08+00:00  Young Adult        Fail  \n",
      "3  2025-06-10 22:25:08+00:00        Adult        Fail  \n",
      "4  2025-06-10 22:25:08+00:00         Teen        Pass  \n",
      "Incremental Data Preview:\n",
      "  student_id  age  gender  study_hours_per_day  social_media_hours  \\\n",
      "0      S1000   23  Female                  0.0                 1.2   \n",
      "1      S1001   20  Female                  6.9                 2.8   \n",
      "2      S1002   21    Male                  1.4                 3.1   \n",
      "3      S1003   23  Female                  1.0                 3.9   \n",
      "4      S1004   19  Female                  5.0                 4.4   \n",
      "\n",
      "   netflix_hours part_time_job  attendance_percentage  sleep_hours  \\\n",
      "0            1.1            No                   85.0          8.0   \n",
      "1            2.3            No                   97.3          4.6   \n",
      "2            1.3            No                   94.8          8.0   \n",
      "3            1.0            No                   71.0          9.2   \n",
      "4            0.5            No                   90.9          4.9   \n",
      "\n",
      "  diet_quality  exercise_frequency parental_education_level internet_quality  \\\n",
      "0         Fair                   6                   Master          Average   \n",
      "1         Good                   6              High School          Average   \n",
      "2         Poor                   1              High School             Poor   \n",
      "3         Poor                   4                   Master             Good   \n",
      "4         Fair                   3                   Master             Good   \n",
      "\n",
      "   mental_health_rating extracurricular_participation  exam_score  \\\n",
      "0                     8                           Yes        56.2   \n",
      "1                     8                            No       100.0   \n",
      "2                     1                            No        34.3   \n",
      "3                     1                           Yes        26.8   \n",
      "4                     1                            No        66.4   \n",
      "\n",
      "                last_updated    age_group exam_result  \n",
      "0  2025-06-10 22:25:08+00:00        Adult        Pass  \n",
      "1  2025-06-10 22:25:08+00:00  Young Adult        Pass  \n",
      "2  2025-06-10 22:25:08+00:00  Young Adult        Fail  \n",
      "3  2025-06-10 22:25:08+00:00        Adult        Fail  \n",
      "4  2025-06-10 22:25:08+00:00         Teen        Pass  \n"
     ]
    }
   ],
   "source": [
    "# Preview the first few rows from the full_data table\n",
    "conn_full = sqlite3.connect(full_db)\n",
    "print(\"Full Data Preview:\")\n",
    "print(pd.read_sql('SELECT * FROM full_data LIMIT 5', conn_full))\n",
    "conn_full.close()\n",
    "\n"
   ]
  },
  {
   "cell_type": "code",
   "execution_count": 28,
   "id": "b304abd3",
   "metadata": {},
   "outputs": [
    {
     "name": "stdout",
     "output_type": "stream",
     "text": [
      "Incremental Data Preview:\n",
      "  student_id  age  gender  study_hours_per_day  social_media_hours  \\\n",
      "0      S1000   23  Female                  0.0                 1.2   \n",
      "1      S1001   20  Female                  6.9                 2.8   \n",
      "2      S1002   21    Male                  1.4                 3.1   \n",
      "3      S1003   23  Female                  1.0                 3.9   \n",
      "4      S1004   19  Female                  5.0                 4.4   \n",
      "\n",
      "   netflix_hours part_time_job  attendance_percentage  sleep_hours  \\\n",
      "0            1.1            No                   85.0          8.0   \n",
      "1            2.3            No                   97.3          4.6   \n",
      "2            1.3            No                   94.8          8.0   \n",
      "3            1.0            No                   71.0          9.2   \n",
      "4            0.5            No                   90.9          4.9   \n",
      "\n",
      "  diet_quality  exercise_frequency parental_education_level internet_quality  \\\n",
      "0         Fair                   6                   Master          Average   \n",
      "1         Good                   6              High School          Average   \n",
      "2         Poor                   1              High School             Poor   \n",
      "3         Poor                   4                   Master             Good   \n",
      "4         Fair                   3                   Master             Good   \n",
      "\n",
      "   mental_health_rating extracurricular_participation  exam_score  \\\n",
      "0                     8                           Yes        56.2   \n",
      "1                     8                            No       100.0   \n",
      "2                     1                            No        34.3   \n",
      "3                     1                           Yes        26.8   \n",
      "4                     1                            No        66.4   \n",
      "\n",
      "                last_updated    age_group exam_result  \n",
      "0  2025-06-10 22:25:08+00:00        Adult        Pass  \n",
      "1  2025-06-10 22:25:08+00:00  Young Adult        Pass  \n",
      "2  2025-06-10 22:25:08+00:00  Young Adult        Fail  \n",
      "3  2025-06-10 22:25:08+00:00        Adult        Fail  \n",
      "4  2025-06-10 22:25:08+00:00         Teen        Pass  \n"
     ]
    }
   ],
   "source": [
    "# Preview the first few rows from the incremental_data table\n",
    "conn_incr = sqlite3.connect(incremental_db)\n",
    "print(\"Incremental Data Preview:\")\n",
    "print(pd.read_sql('SELECT * FROM incremental_data LIMIT 5', conn_incr))\n",
    "conn_incr.close()"
   ]
  }
 ],
 "metadata": {
  "kernelspec": {
   "display_name": "Python 3",
   "language": "python",
   "name": "python3"
  },
  "language_info": {
   "codemirror_mode": {
    "name": "ipython",
    "version": 3
   },
   "file_extension": ".py",
   "mimetype": "text/x-python",
   "name": "python",
   "nbconvert_exporter": "python",
   "pygments_lexer": "ipython3",
   "version": "3.12.0"
  }
 },
 "nbformat": 4,
 "nbformat_minor": 5
}
